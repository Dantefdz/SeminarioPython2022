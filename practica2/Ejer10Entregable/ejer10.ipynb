{
 "cells": [
  {
   "cell_type": "markdown",
   "metadata": {},
   "source": [
    "# Ejer10:\n",
    "Trabajando con los contenidos de los archivos que pueden acceder en el curso:\n",
    "•nombres\n",
    "• eval1\n",
    "• eval2\n"
   ]
  },
  {
   "cell_type": "markdown",
   "metadata": {},
   "source": [
    "Manipule estos archivos para realizar lo siguiente:\n",
    "• Generar una estructura con los nombres de los estudiantes y la suma de ambas notas.\n"
   ]
  },
  {
   "cell_type": "code",
   "execution_count": 13,
   "metadata": {},
   "outputs": [],
   "source": [
    "def borrarCaracteres(lista):\n",
    "    aux = []\n",
    "    for char in lista:\n",
    "        char = char.replace(',',\"\").replace(\"'\", \"\").replace(\"\\n\", \"\")\n",
    "        aux.append(char)\n",
    "    return aux"
   ]
  },
  {
   "cell_type": "markdown",
   "metadata": {},
   "source": [
    "hago una lista de tuplas, donde cada tupla tenga nombre y nota total de ambas evaluaciones"
   ]
  },
  {
   "cell_type": "code",
   "execution_count": 14,
   "metadata": {},
   "outputs": [],
   "source": [
    "def calcularNotas (lista_nombres, eval1, eval2):\n",
    "    \n",
    "    pos = 0\n",
    "    lista = []\n",
    "    for nombre in lista_nombres:\n",
    "        tupla = (nombre, int(eval1[pos])+int(eval2[pos]))\n",
    "        lista.append(tupla)\n",
    "        pos += 1\n",
    "    return lista"
   ]
  },
  {
   "cell_type": "markdown",
   "metadata": {},
   "source": [
    "Calculo el promedio de las notas totales y me lo guardo"
   ]
  },
  {
   "cell_type": "code",
   "execution_count": 15,
   "metadata": {},
   "outputs": [],
   "source": [
    "def CalcularProm(notas):\n",
    "    total=0\n",
    "    for n in notas:\n",
    "        total +=n[1]\n",
    "    prom= total/len(notas)\n",
    "    return prom"
   ]
  },
  {
   "cell_type": "markdown",
   "metadata": {},
   "source": [
    "Informo alumnnos con promedio bajos"
   ]
  },
  {
   "cell_type": "code",
   "execution_count": 16,
   "metadata": {},
   "outputs": [],
   "source": [
    "def promediosBajos(notas,prom):\n",
    "    for n in notas:\n",
    "        if n[1] < prom:\n",
    "            print(f\"{n[0]}'tiene una nota por debajo del promedio\")"
   ]
  },
  {
   "cell_type": "markdown",
   "metadata": {},
   "source": [
    "Esta es la invocación a los modulos "
   ]
  },
  {
   "cell_type": "code",
   "execution_count": null,
   "metadata": {},
   "outputs": [],
   "source": [
    "'''Abro los archivos y los combierto en lista'''\n",
    "nombres= list(open(r'pythonPracticas\\practica2\\Ejer10Entregable\\nombres_1.txt',mode=\"r\",encoding='utf-8'))\n",
    "eval1= list(open(r'pythonPracticas\\practica2\\Ejer10Entregable\\eval1.txt',mode=\"r\",encoding='utf-8')) \n",
    "eval2= list(open(r'pythonPracticas\\practica2\\Ejer10Entregable\\eval2.txt',mode=\"r\",encoding='utf-8')) \n",
    "\n",
    "'''borro los caracteres todos los caracteres innecesarios'''\n",
    "nom = borrarCaracteres(nombres)\n",
    "evaluacion1 = borrarCaracteres(eval1)\n",
    "evaluacion2 = borrarCaracteres(eval2)\n",
    "\n",
    "'''Me guardo en una lista el nombre del estudiante y la suma de sus notas y luego lo muestro'''\n",
    "notaFinal =calcularNotas(nom,evaluacion1,evaluacion2)\n",
    "'''print(f\"Nombres de los estudiantes y la suma de ambas notas:\\n{notaFinal}\")'''\n",
    "\n",
    "'''Calculo el promedio de las notas totales e informo\n",
    "quienes fueron los alumnos con tuvieron notas menor al promedio'''\n",
    "promedio =CalcularProm(notaFinal)\n",
    "promediosBajos(notaFinal,promedio)"
   ]
  }
 ],
 "metadata": {
  "interpreter": {
   "hash": "c38fa06c044c404f6294aaa706a9c63ef708c0e6b2ebd54474ce8ed1810ee737"
  },
  "kernelspec": {
   "display_name": "Python 3.10.4 64-bit",
   "language": "python",
   "name": "python3"
  },
  "language_info": {
   "codemirror_mode": {
    "name": "ipython",
    "version": 3
   },
   "file_extension": ".py",
   "mimetype": "text/x-python",
   "name": "python",
   "nbconvert_exporter": "python",
   "pygments_lexer": "ipython3",
   "version": "3.10.4"
  },
  "orig_nbformat": 4
 },
 "nbformat": 4,
 "nbformat_minor": 2
}
