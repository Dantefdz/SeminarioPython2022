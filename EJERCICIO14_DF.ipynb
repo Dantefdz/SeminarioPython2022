{
 "cells": [
  {
   "cell_type": "markdown",
   "id": "b015a19f",
   "metadata": {},
   "source": [
    "# Actividad 1 por Python plus\n"
   ]
  },
  {
   "cell_type": "markdown",
   "id": "b0d0ad1d",
   "metadata": {},
   "source": [
    "## Parte I: resolvé el siguiente desafío:"
   ]
  },
  {
   "cell_type": "markdown",
   "id": "0718e639",
   "metadata": {},
   "source": [
    "EJERCICIO 14: dado el archivo denominado [TOTAL_nuevo.csv](https://archivos.linti.unlp.edu.ar/index.php/s/7zTP1JtN2KKTqYu) que contiene la actividad realizada en las clases  de la materia a través de catedras.linti, se desea generar un archivo con aquellos usuarios que visualizaron las grabaciones durante la noche (evento: Grabación vista). Se considera noche al horario de 7pm a 7 am."
   ]
  },
  {
   "cell_type": "code",
   "execution_count": 1,
   "id": "5021bb7c",
   "metadata": {},
   "outputs": [],
   "source": [
    "#Solución\n",
    "import csv\n",
    "from typing import Counter\n",
    "\n",
    "\n",
    "def generate_file(nombre):\n",
    "    \"\"\"\n",
    "    genera un archivo \".txt\" a partir de un nombre otorgado por parametro \"input\"\n",
    "    devolviendo el arhcivo generado con la funcion writer creada.\n",
    "    \"\"\"\n",
    "    na = open(nombre+\".txt\", \"w\", encoding='utf-8')\n",
    "    return csv.writer(na)\n",
    "\n",
    "\n",
    "# Abrimos el archivo .csv\n",
    "archivo = open(r'pythonPracticas\\TOTAL_nuevo.csv',mode=\"r\",encoding='utf-8')\n",
    "\n",
    "# utlizamos un \"lector\" para .csv, delimitado por \",\"\n",
    "csvreader = csv.DictReader(archivo, delimiter=',')\n",
    "\n",
    "#writer = csv.writer(generate_file(nombrea=input(\"ingrese nombre de archivo: \")))\n",
    "writer = generate_file(\"Nocturno\")#nombre=input(\"ingrese nombre de archivo: \"))\n",
    "\n",
    "new = list(csvreader)\n",
    "for elem in csvreader:\n",
    "    if ((elem[\"Hora\"]> 7) and (elem[\"Hora\"] < 19)):\n",
    "        writer.writerow([elem[\"Hora\"], elem[\"Nombre completo del usuario\"], elem[\"Usuario afectado\"], elem[\"Nombre evento\"], elem[\"Descripción\"],  elem[\"Dirección IP\"]])\n",
    "        new.append(new[elem])\n",
    "archivo.close()\n",
    "#no se como hacer para sacar la fecha pero despues de sacar la fecha gardaria los campos en una lista y la imprimiria "
   ]
  }
 ],
 "metadata": {
  "kernelspec": {
   "display_name": "Python 3 (ipykernel)",
   "language": "python",
   "name": "python3"
  },
  "language_info": {
   "codemirror_mode": {
    "name": "ipython",
    "version": 3
   },
   "file_extension": ".py",
   "mimetype": "text/x-python",
   "name": "python",
   "nbconvert_exporter": "python",
   "pygments_lexer": "ipython3",
   "version": "3.10.2"
  }
 },
 "nbformat": 4,
 "nbformat_minor": 5
}
